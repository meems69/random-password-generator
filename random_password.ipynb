{
 "cells": [
  {
   "cell_type": "code",
   "execution_count": 2,
   "id": "6f19243f-6f83-48e0-a4b4-809384330ce5",
   "metadata": {},
   "outputs": [
    {
     "name": "stdout",
     "output_type": "stream",
     "text": [
      "Requirement already satisfied: pyperclip in /opt/anaconda3/lib/python3.12/site-packages (1.9.0)\n",
      "Note: you may need to restart the kernel to use updated packages.\n"
     ]
    }
   ],
   "source": [
    "pip install pyperclip"
   ]
  },
  {
   "cell_type": "code",
   "execution_count": 2,
   "id": "999ff04b-855a-4937-8091-fbb48dc3a07d",
   "metadata": {},
   "outputs": [],
   "source": [
    "import random\n",
    "import string\n",
    "import tkinter as tk\n",
    "from tkinter import messagebox\n",
    "import pyperclip"
   ]
  },
  {
   "cell_type": "code",
   "execution_count": 4,
   "id": "4ee0cf07-d1b0-452c-aac4-6ed426667709",
   "metadata": {},
   "outputs": [],
   "source": [
    "def generate_password(length, use_letters=True, use_numbers=True, use_symbols=True):\n",
    "    character_set = ''\n",
    "    if use_letters:\n",
    "        character_set += string.ascii_letters\n",
    "    if use_numbers:\n",
    "        character_set += string.digits\n",
    "    if use_symbols:\n",
    "        character_set += string.punctuation\n",
    "    \n",
    "    if not character_set:\n",
    "        raise ValueError(\"At least one character type must be selected\")\n",
    "    \n",
    "    password = ''.join(random.choice(character_set) for _ in range(length))\n",
    "    return password"
   ]
  },
  {
   "cell_type": "code",
   "execution_count": null,
   "id": "666c5909-d7f5-4fa6-8c6d-b129330f9a49",
   "metadata": {},
   "outputs": [],
   "source": [
    "class PasswordGeneratorApp:\n",
    "    def __init__(self, root):\n",
    "        self.root = root\n",
    "        self.root.title(\"Advanced Password Generator\")\n",
    "        self.root.geometry(\"400x300\")\n",
    "        \n",
    "        self.length_label = tk.Label(root, text=\"Password Length:\")\n",
    "        self.length_label.pack()\n",
    "        \n",
    "        self.length_entry = tk.Entry(root)\n",
    "        self.length_entry.pack()\n",
    "        \n",
    "        self.letters_var = tk.BooleanVar(value=True)\n",
    "        self.numbers_var = tk.BooleanVar(value=True)\n",
    "        self.symbols_var = tk.BooleanVar(value=True)\n",
    "        \n",
    "        self.letters_check = tk.Checkbutton(root, text=\"Include Letters\", variable=self.letters_var)\n",
    "        self.letters_check.pack()\n",
    "        \n",
    "        self.numbers_check = tk.Checkbutton(root, text=\"Include Numbers\", variable=self.numbers_var)\n",
    "        self.numbers_check.pack()\n",
    "        \n",
    "        self.symbols_check = tk.Checkbutton(root, text=\"Include Symbols\", variable=self.symbols_var)\n",
    "        self.symbols_check.pack()\n",
    "        \n",
    "        self.generate_button = tk.Button(root, text=\"Generate Password\", command=self.generate_password)\n",
    "        self.generate_button.pack()\n",
    "        \n",
    "        self.password_entry = tk.Entry(root, font=('Arial', 14))\n",
    "        self.password_entry.pack()\n",
    "        \n",
    "        self.copy_button = tk.Button(root, text=\"Copy to Clipboard\", command=self.copy_to_clipboard)\n",
    "        self.copy_button.pack()\n",
    "    \n",
    "    def generate_password(self):\n",
    "        try:\n",
    "            length = int(self.length_entry.get())\n",
    "            use_letters = self.letters_var.get()\n",
    "            use_numbers = self.numbers_var.get()\n",
    "            use_symbols = self.symbols_var.get()\n",
    "            \n",
    "            password = generate_password(length, use_letters, use_numbers, use_symbols)\n",
    "            self.password_entry.delete(0, tk.END)\n",
    "            self.password_entry.insert(0, password)\n",
    "        except ValueError as e:\n",
    "            messagebox.showerror(\"Error\", str(e))\n",
    "    \n",
    "    def copy_to_clipboard(self):\n",
    "        password = self.password_entry.get()\n",
    "        pyperclip.copy(password)\n",
    "        messagebox.showinfo(\"Success\", \"Password copied to clipboard\")\n",
    "\n",
    "if __name__ == \"__main__\":\n",
    "    root = tk.Tk()\n",
    "    app = PasswordGeneratorApp(root)\n",
    "    root.mainloop()\n"
   ]
  },
  {
   "cell_type": "code",
   "execution_count": null,
   "id": "92da2973-7428-42c1-8522-cc4070ac3b71",
   "metadata": {},
   "outputs": [],
   "source": []
  }
 ],
 "metadata": {
  "kernelspec": {
   "display_name": "Python 3 (ipykernel)",
   "language": "python",
   "name": "python3"
  },
  "language_info": {
   "codemirror_mode": {
    "name": "ipython",
    "version": 3
   },
   "file_extension": ".py",
   "mimetype": "text/x-python",
   "name": "python",
   "nbconvert_exporter": "python",
   "pygments_lexer": "ipython3",
   "version": "3.12.4"
  }
 },
 "nbformat": 4,
 "nbformat_minor": 5
}
